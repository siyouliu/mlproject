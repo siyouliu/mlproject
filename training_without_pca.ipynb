{
  "nbformat": 4,
  "nbformat_minor": 0,
  "metadata": {
    "colab": {
      "name": "training without pca",
      "provenance": [],
      "collapsed_sections": [],
      "toc_visible": true
    },
    "kernelspec": {
      "name": "python3",
      "display_name": "Python 3"
    }
  },
  "cells": [
    {
      "cell_type": "code",
      "metadata": {
        "id": "n__x8tHJLsZM",
        "colab_type": "code",
        "colab": {}
      },
      "source": [
        "##### target variable imputation"
      ],
      "execution_count": 0,
      "outputs": []
    },
    {
      "cell_type": "code",
      "metadata": {
        "id": "zW3nUuEPKkKE",
        "colab_type": "code",
        "colab": {}
      },
      "source": [
        "import pandas as pd\n",
        "import matplotlib.pyplot as plt\n",
        "import numpy as np\n",
        "%matplotlib inline"
      ],
      "execution_count": 0,
      "outputs": []
    },
    {
      "cell_type": "code",
      "metadata": {
        "id": "EsT3GieTLlGj",
        "colab_type": "code",
        "colab": {}
      },
      "source": [
        "df = pd.read_csv('/content/final_data.csv')"
      ],
      "execution_count": 0,
      "outputs": []
    },
    {
      "cell_type": "code",
      "metadata": {
        "id": "Z0s4aIt8Ni0m",
        "colab_type": "code",
        "colab": {}
      },
      "source": [
        "## add new features\n",
        "df['date'] = pd.to_datetime(df['date'])\n",
        "df['dayofweek'] = df['date'].dt.dayofweek\n",
        "df['dayofmonth'] = df['date'].dt.day"
      ],
      "execution_count": 0,
      "outputs": []
    },
    {
      "cell_type": "code",
      "metadata": {
        "id": "uGHYUA5lOglW",
        "colab_type": "code",
        "colab": {}
      },
      "source": [
        "feat_cols = ['dayofweek','dayofmonth','frequency_communication','frequency_games & entertainment','frequency_lifestyle','frequency_news & information outlet',\n",
        "    'frequency_social network','frequency_utility & tools',\n",
        "    'cat_duration_communication', 'cat_duration_games & entertainment','cat_duration_lifestyle','cat_duration_news & information outlet', \n",
        "    'cat_duration_social network',\t'cat_duration_utility & tools',\n",
        "    'dur_pro_communication','dur_pro_games & entertainment','dur_pro_lifestyle','dur_pro_news & information outlet',\t'dur_pro_social network',\t\n",
        "    'dur_pro_utility & tools',\n",
        "    'freq_pro_communication','freq_pro_games & entertainment','freq_pro_lifestyle','freq_pro_news & information outlet','freq_pro_social network',\n",
        "    'freq_pro_utility & tools','recency_communication','recency_games & entertainment','recency_lifestyle',\n",
        "    'recency_news & information outlet','recency_social network','recency_utility & tools','monetary_communication','monetary_games & entertainment',\n",
        "    'monetary_lifestyle','monetary_news & information outlet','monetary_social network','monetary_utility & tools','earliest_time_communication',\n",
        "    'earliest_time_games & entertainment',  'earliest_time_lifestyle',  'earliest_time_news & information outlet',  \n",
        "    'earliest_time_social network',  'earliest_time_utility & tools','max_duration_communication',\n",
        "    'max_duration_games & entertainment','max_duration_lifestyle','max_duration_news & information outlet','max_duration_social network',\n",
        "    'max_duration_utility & tools','std_duration_communication','std_duration_games & entertainment','std_duration_lifestyle','std_duration_news & information outlet',\n",
        "    'std_duration_social network','std_duration_utility & tools','min_duration_communication','min_duration_games & entertainment','min_duration_lifestyle',\n",
        "    'min_duration_news & information outlet','min_duration_social network','min_duration_utility & tools','var_duration_communication','var_duration_games & entertainment',\n",
        "    'var_duration_lifestyle','var_duration_news & information outlet','var_duration_social network','var_duration_utility & tools']\n",
        "\n",
        "target_cols = [\n",
        "    'anxious', 'bored', 'gloomy', 'stressed', 'upset', 'tired', 'envious',\n",
        "    'inferior'\n",
        "]"
      ],
      "execution_count": 0,
      "outputs": []
    },
    {
      "cell_type": "code",
      "metadata": {
        "id": "7hj2zuEidWBP",
        "colab_type": "code",
        "colab": {}
      },
      "source": [
        "x = df[target_cols].values"
      ],
      "execution_count": 0,
      "outputs": []
    },
    {
      "cell_type": "code",
      "metadata": {
        "id": "ttj28gz_QJsX",
        "colab_type": "code",
        "colab": {}
      },
      "source": [
        "from sklearn.cluster import KMeans\n",
        "from sklearn.metrics import silhouette_score"
      ],
      "execution_count": 0,
      "outputs": []
    },
    {
      "cell_type": "code",
      "metadata": {
        "colab_type": "code",
        "outputId": "4faa8327-d4f4-469d-8c26-1a7278e51366",
        "id": "ZsVkqumcsTAG",
        "colab": {
          "base_uri": "https://localhost:8080/",
          "height": 138
        }
      },
      "source": [
        "km_scores= []\n",
        "km_silhouette = []\n",
        "vmeasure_score =[]\n",
        "db_score = []\n",
        "for i in range(2,9):\n",
        "    km = KMeans(n_clusters=i, random_state=0).fit(x)\n",
        "    preds = km.predict(x)    \n",
        "    silhouette = silhouette_score(x,preds)\n",
        "    km_silhouette.append(silhouette)\n",
        "    print(\"Silhouette score for number of cluster(s) {}: {}\".format(i,silhouette))"
      ],
      "execution_count": 0,
      "outputs": [
        {
          "output_type": "stream",
          "text": [
            "Silhouette score for number of cluster(s) 2: 0.42469288582816334\n",
            "Silhouette score for number of cluster(s) 3: 0.2921078938250449\n",
            "Silhouette score for number of cluster(s) 4: 0.22185167949208814\n",
            "Silhouette score for number of cluster(s) 5: 0.22580563020256636\n",
            "Silhouette score for number of cluster(s) 6: 0.22703269051695812\n",
            "Silhouette score for number of cluster(s) 7: 0.2106670420173592\n",
            "Silhouette score for number of cluster(s) 8: 0.21114196099072696\n"
          ],
          "name": "stdout"
        }
      ]
    },
    {
      "cell_type": "code",
      "metadata": {
        "id": "O-sFtvlYxlML",
        "colab_type": "code",
        "outputId": "437ed0c8-6c7c-4256-a24f-4a0f560df6ba",
        "colab": {
          "base_uri": "https://localhost:8080/",
          "height": 340
        }
      },
      "source": [
        "plt.figure(figsize=(7,4))\n",
        "plt.title(\"The silhouette coefficient method \\nfor determining number of clusters\\n\",fontsize=16)\n",
        "plt.scatter(x=[i for i in range(2,9)],y=km_silhouette,s=150,edgecolor='k')\n",
        "plt.grid(True)\n",
        "plt.xlabel(\"Number of clusters\",fontsize=14)\n",
        "plt.ylabel(\"Silhouette score\",fontsize=15)\n",
        "plt.xticks([i for i in range(2,9)],fontsize=14)\n",
        "plt.yticks(fontsize=15)\n",
        "plt.show()"
      ],
      "execution_count": 0,
      "outputs": [
        {
          "output_type": "display_data",
          "data": {
            "image/png": "[encoded data removed]",
            "text/plain": [
              "<Figure size 504x288 with 1 Axes>"
            ]
          },
          "metadata": {
            "tags": []
          }
        }
      ]
    },
    {
      "cell_type": "code",
      "metadata": {
        "id": "mncAjz73Vi8O",
        "colab_type": "code",
        "colab": {}
      },
      "source": [
        "kmeans = KMeans(n_clusters=2)\n",
        "kmeans.fit(x)\n",
        "y = kmeans.predict(x)"
      ],
      "execution_count": 0,
      "outputs": []
    },
    {
      "cell_type": "code",
      "metadata": {
        "id": "eSoA65WZVrS5",
        "colab_type": "code",
        "outputId": "3a16a214-3673-4cf8-d462-176ccddb933f",
        "colab": {
          "base_uri": "https://localhost:8080/",
          "height": 655
        }
      },
      "source": [
        "#plot the mean plot for each label\n",
        "df2 = df[target_cols]\n",
        "df2['y'] = y\n",
        "df2.groupby('y').mean().plot.bar()\n",
        "df2.groupby('y').std().plot.bar()"
      ],
      "execution_count": 0,
      "outputs": [
        {
          "output_type": "stream",
          "text": [
            "/usr/local/lib/python3.6/dist-packages/ipykernel_launcher.py:2: SettingWithCopyWarning: \n",
            "A value is trying to be set on a copy of a slice from a DataFrame.\n",
            "Try using .loc[row_indexer,col_indexer] = value instead\n",
            "\n",
            "See the caveats in the documentation: http://pandas.pydata.org/pandas-docs/stable/user_guide/indexing.html#returning-a-view-versus-a-copy\n",
            "  \n"
          ],
          "name": "stderr"
        },
        {
          "output_type": "execute_result",
          "data": {
            "text/plain": [
              "<matplotlib.axes._subplots.AxesSubplot at 0x7f5922734438>"
            ]
          },
          "metadata": {
            "tags": []
          },
          "execution_count": 14
        },
        {
          "output_type": "display_data",
          "data": {
            "image/png": "[encoded data removed]",
            "text/plain": [
              "<Figure size 432x288 with 1 Axes>"
            ]
          },
          "metadata": {
            "tags": []
          }
        },
        {
          "output_type": "display_data",
          "data": {
            "image/png": "[encoded data removed]",
            "text/plain": [
              "<Figure size 432x288 with 1 Axes>"
            ]
          },
          "metadata": {
            "tags": []
          }
        }
      ]
    },
    {
      "cell_type": "code",
      "metadata": {
        "id": "EVRHA6urV4Ba",
        "colab_type": "code",
        "colab": {}
      },
      "source": [
        "###training"
      ],
      "execution_count": 0,
      "outputs": []
    },
    {
      "cell_type": "code",
      "metadata": {
        "id": "F2DES6kZrr9s",
        "colab_type": "code",
        "colab": {}
      },
      "source": [
        "from sklearn.model_selection import train_test_split"
      ],
      "execution_count": 0,
      "outputs": []
    },
    {
      "cell_type": "code",
      "metadata": {
        "id": "tbjgFQsrV85Y",
        "colab_type": "code",
        "colab": {}
      },
      "source": [
        "X_train, X_test, y_train, y_test = train_test_split(df[feat_cols].values,\n",
        "                                                    y,\n",
        "                                                    test_size=0.2,\n",
        "                                                    shuffle=True,random_state = 0)"
      ],
      "execution_count": 0,
      "outputs": []
    },
    {
      "cell_type": "code",
      "metadata": {
        "id": "T9D9dQqwV-Nq",
        "colab_type": "code",
        "colab": {}
      },
      "source": [
        "from sklearn.ensemble import RandomForestClassifier\n",
        "from sklearn.metrics import accuracy_score"
      ],
      "execution_count": 0,
      "outputs": []
    },
    {
      "cell_type": "markdown",
      "metadata": {
        "id": "gtR7hjojyNDB",
        "colab_type": "text"
      },
      "source": [
        ""
      ]
    },
    {
      "cell_type": "code",
      "metadata": {
        "id": "p696I5-AV_7Z",
        "colab_type": "code",
        "colab": {}
      },
      "source": [
        "rf = RandomForestClassifier(n_estimators=50,max_depth=5)\n",
        "rf.fit(X_train, y_train)\n",
        "y_train_pred = rf.predict(X_train)\n",
        "y_test_pred = rf.predict(X_test)"
      ],
      "execution_count": 0,
      "outputs": []
    },
    {
      "cell_type": "code",
      "metadata": {
        "id": "R7Kc38M5WBiB",
        "colab_type": "code",
        "outputId": "dcd8c86e-7921-4870-a97c-30259e8854a0",
        "colab": {
          "base_uri": "https://localhost:8080/",
          "height": 449
        }
      },
      "source": [
        "from sklearn.metrics import classification_report\n",
        "print('classification on training set')\n",
        "print('____________________________________________')\n",
        "print(classification_report(y_train, y_train_pred))\n",
        "print()\n",
        "\n",
        "print('classification on test set')\n",
        "print('____________________________________________')\n",
        "print(classification_report(y_test,y_test_pred))\n",
        "print('accuracy score')\n",
        "print(accuracy_score(y_test,y_test_pred))"
      ],
      "execution_count": 0,
      "outputs": [
        {
          "output_type": "stream",
          "text": [
            "classification on training set\n",
            "____________________________________________\n",
            "              precision    recall  f1-score   support\n",
            "\n",
            "           0       0.76      1.00      0.86      1300\n",
            "           1       0.99      0.18      0.30       512\n",
            "\n",
            "    accuracy                           0.77      1812\n",
            "   macro avg       0.87      0.59      0.58      1812\n",
            "weighted avg       0.82      0.77      0.70      1812\n",
            "\n",
            "\n",
            "classification on test set\n",
            "____________________________________________\n",
            "              precision    recall  f1-score   support\n",
            "\n",
            "           0       0.70      0.98      0.82       306\n",
            "           1       0.78      0.12      0.21       147\n",
            "\n",
            "    accuracy                           0.70       453\n",
            "   macro avg       0.74      0.55      0.51       453\n",
            "weighted avg       0.73      0.70      0.62       453\n",
            "\n",
            "accuracy score\n",
            "0.7041942604856513\n"
          ],
          "name": "stdout"
        }
      ]
    }
  ]
}